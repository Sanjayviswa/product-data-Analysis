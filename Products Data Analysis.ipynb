{
 "cells": [
  {
   "cell_type": "code",
   "execution_count": 1,
   "metadata": {},
   "outputs": [],
   "source": [
    "import pandas as pd\n",
    "import numpy as np\n",
    "import seaborn as sns\n",
    "import matplotlib.pyplot as plt"
   ]
  },
  {
   "cell_type": "code",
   "execution_count": 6,
   "metadata": {
    "scrolled": true
   },
   "outputs": [
    {
     "data": {
      "text/html": [
       "<div>\n",
       "<style scoped>\n",
       "    .dataframe tbody tr th:only-of-type {\n",
       "        vertical-align: middle;\n",
       "    }\n",
       "\n",
       "    .dataframe tbody tr th {\n",
       "        vertical-align: top;\n",
       "    }\n",
       "\n",
       "    .dataframe thead th {\n",
       "        text-align: right;\n",
       "    }\n",
       "</style>\n",
       "<table border=\"1\" class=\"dataframe\">\n",
       "  <thead>\n",
       "    <tr style=\"text-align: right;\">\n",
       "      <th></th>\n",
       "      <th>Product_name</th>\n",
       "      <th>Product_id</th>\n",
       "      <th>Product_Category</th>\n",
       "      <th>price</th>\n",
       "      <th>Professional_Publication</th>\n",
       "      <th>Region_address</th>\n",
       "      <th>Local_address</th>\n",
       "    </tr>\n",
       "  </thead>\n",
       "  <tbody>\n",
       "    <tr>\n",
       "      <th>0</th>\n",
       "      <td>\"chambre a coucher \"</td>\n",
       "      <td>\"40008817\"</td>\n",
       "      <td>\"Meubles et décoration \"</td>\n",
       "      <td>1 800</td>\n",
       "      <td>\"private\"</td>\n",
       "      <td>\"Grand Casablanca\"</td>\n",
       "      <td>\"Casablanca\"</td>\n",
       "    </tr>\n",
       "    <tr>\n",
       "      <th>1</th>\n",
       "      <td>\"Comte free fire\"</td>\n",
       "      <td>\"40008816\"</td>\n",
       "      <td>\"Jeux vidéo et consoles \"</td>\n",
       "      <td></td>\n",
       "      <td>\"private\"</td>\n",
       "      <td>\"Grand Casablanca\"</td>\n",
       "      <td>\"Casablanca\"</td>\n",
       "    </tr>\n",
       "    <tr>\n",
       "      <th>2</th>\n",
       "      <td>\"Iphone 6 plus\"</td>\n",
       "      <td>\"40008815\"</td>\n",
       "      <td>\"Téléphones \"</td>\n",
       "      <td></td>\n",
       "      <td>\"private\"</td>\n",
       "      <td>\"Grand Casablanca\"</td>\n",
       "      <td>\"Casablanca\"</td>\n",
       "    </tr>\n",
       "    <tr>\n",
       "      <th>3</th>\n",
       "      <td>\"Renault \"</td>\n",
       "      <td>\"40008814\"</td>\n",
       "      <td>\"Voitures \"</td>\n",
       "      <td></td>\n",
       "      <td>\"private\"</td>\n",
       "      <td>\"Chaouia-Ouardigha\"</td>\n",
       "      <td>\"Settat\"</td>\n",
       "    </tr>\n",
       "    <tr>\n",
       "      <th>4</th>\n",
       "      <td>\"PS3 SLIM 360 GB \"</td>\n",
       "      <td>\"40008812\"</td>\n",
       "      <td>\"Jeux vidéo et consoles \"</td>\n",
       "      <td>1 400</td>\n",
       "      <td>\"private\"</td>\n",
       "      <td>\"Rabat-Salé-Zemmour-Zaër\"</td>\n",
       "      <td>\"Sala Al-Jadida\"</td>\n",
       "    </tr>\n",
       "  </tbody>\n",
       "</table>\n",
       "</div>"
      ],
      "text/plain": [
       "           Product_name  Product_id           Product_Category  price  \\\n",
       "0  \"chambre a coucher \"  \"40008817\"   \"Meubles et décoration \"  1 800   \n",
       "1     \"Comte free fire\"  \"40008816\"  \"Jeux vidéo et consoles \"          \n",
       "2       \"Iphone 6 plus\"  \"40008815\"              \"Téléphones \"          \n",
       "3            \"Renault \"  \"40008814\"                \"Voitures \"          \n",
       "4    \"PS3 SLIM 360 GB \"  \"40008812\"  \"Jeux vidéo et consoles \"  1 400   \n",
       "\n",
       "  Professional_Publication             Region_address     Local_address  \n",
       "0                \"private\"         \"Grand Casablanca\"      \"Casablanca\"  \n",
       "1                \"private\"         \"Grand Casablanca\"      \"Casablanca\"  \n",
       "2                \"private\"         \"Grand Casablanca\"      \"Casablanca\"  \n",
       "3                \"private\"        \"Chaouia-Ouardigha\"          \"Settat\"  \n",
       "4                \"private\"  \"Rabat-Salé-Zemmour-Zaër\"  \"Sala Al-Jadida\"  "
      ]
     },
     "execution_count": 6,
     "metadata": {},
     "output_type": "execute_result"
    }
   ],
   "source": [
    "df = pd.read_csv('ProductsData.csv', encoding='latin-1')\n",
    "df.head()"
   ]
  },
  {
   "cell_type": "markdown",
   "metadata": {},
   "source": [
    "# Data Cleaning"
   ]
  },
  {
   "cell_type": "code",
   "execution_count": 8,
   "metadata": {},
   "outputs": [],
   "source": [
    "# Dropping all the NaN values, this will drop 1.456 incompleted records.\n",
    "df.dropna(inplace=True)\n",
    "\n",
    "# Setting the correct data types\n",
    "df['price'] = pd.to_numeric(df['price'], errors='coerce')"
   ]
  },
  {
   "cell_type": "markdown",
   "metadata": {},
   "source": [
    "# Data Exploration"
   ]
  },
  {
   "cell_type": "code",
   "execution_count": 9,
   "metadata": {},
   "outputs": [
    {
     "data": {
      "text/plain": [
       "Text(0.5, 1.0, 'Products sold per professional publication')"
      ]
     },
     "execution_count": 9,
     "metadata": {},
     "output_type": "execute_result"
    },
    {
     "data": {
      "image/png": "[encoded data removed]",
      "text/plain": [
       "<Figure size 1080x504 with 1 Axes>"
      ]
     },
     "metadata": {},
     "output_type": "display_data"
    }
   ],
   "source": [
    "sns.set_theme(style=\"darkgrid\")\n",
    "plt.figure(figsize=(15, 7))\n",
    "\n",
    "sns.countplot(\n",
    "    x=df['Professional_Publication']\n",
    ")\n",
    "plt.title(\n",
    "    'Products sold per professional publication',\n",
    "    fontdict={\n",
    "        'fontsize': 16\n",
    "    }\n",
    ")"
   ]
  },
  {
   "cell_type": "code",
   "execution_count": null,
   "metadata": {},
   "outputs": [],
   "source": []
  },
  {
   "cell_type": "code",
   "execution_count": null,
   "metadata": {},
   "outputs": [],
   "source": []
  },
  {
   "cell_type": "code",
   "execution_count": null,
   "metadata": {},
   "outputs": [],
   "source": []
  },
  {
   "cell_type": "code",
   "execution_count": null,
   "metadata": {},
   "outputs": [],
   "source": []
  },
  {
   "cell_type": "code",
   "execution_count": null,
   "metadata": {},
   "outputs": [],
   "source": []
  },
  {
   "cell_type": "code",
   "execution_count": null,
   "metadata": {},
   "outputs": [],
   "source": []
  }
 ],
 "metadata": {
  "kernelspec": {
   "display_name": "Python 3",
   "language": "python",
   "name": "python3"
  },
  "language_info": {
   "codemirror_mode": {
    "name": "ipython",
    "version": 3
   },
   "file_extension": ".py",
   "mimetype": "text/x-python",
   "name": "python",
   "nbconvert_exporter": "python",
   "pygments_lexer": "ipython3",
   "version": "3.8.5"
  }
 },
 "nbformat": 4,
 "nbformat_minor": 4
}
